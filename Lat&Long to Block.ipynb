{
 "cells": [
  {
   "cell_type": "markdown",
   "metadata": {},
   "source": [
    "# Convert Lat/Long to Block Number"
   ]
  },
  {
   "cell_type": "markdown",
   "metadata": {},
   "source": [
    "Import libraries"
   ]
  },
  {
   "cell_type": "code",
   "execution_count": 7,
   "metadata": {},
   "outputs": [],
   "source": [
    "import pandas as pd\n",
    "import sys\n",
    "import time\n",
    "import urllib.request\n",
    "import re"
   ]
  },
  {
   "cell_type": "markdown",
   "metadata": {},
   "source": [
    "Read in arbitrary dataframe for testing"
   ]
  },
  {
   "cell_type": "code",
   "execution_count": 4,
   "metadata": {},
   "outputs": [],
   "source": [
    "racks = pd.read_csv('data/bicycle_rack_points.csv')"
   ]
  },
  {
   "cell_type": "markdown",
   "metadata": {},
   "source": [
    "Function to scrape FCC website for block number by lat/long"
   ]
  },
  {
   "cell_type": "code",
   "execution_count": 19,
   "metadata": {},
   "outputs": [],
   "source": [
    "def lltoblock(df):\n",
    "    \n",
    "    # Create empty array for storing block number\n",
    "    \n",
    "    \n",
    "    # Create opener\n",
    "    opener = urllib.request.FancyURLopener({})\n",
    "    \n",
    "    # Iterate over all rows of dataframe\n",
    "    for i in range(len(df)):\n",
    "        \n",
    "        # Get latitude and longitude\n",
    "        lat = df['Y'][i]\n",
    "        long = df['X'][i]\n",
    "        \n",
    "        # Create url from lat/long\n",
    "        url = 'https://geo.fcc.gov/api/census/block/find?latitude='\\\n",
    "        + str(lat) + '&longitude=' + str(long) + '&showall=false&format=json'\n",
    "        \n",
    "        # Store webpage contents\n",
    "        f = opener.open(url)\n",
    "        content = f.read()\n",
    "        \n",
    "        # Get block number out of content string\n",
    "        block = re.search(r\".*FIPS\\\":\\\" *(.*?) *\\\",\\\"bbox.*\", str(content)).group(1)\n",
    "        \n",
    "        \n",
    "        sys.stdout.write('\\r' + str(block))\n",
    "        time.sleep(0.1)"
   ]
  },
  {
   "cell_type": "markdown",
   "metadata": {},
   "source": [
    "Call the function on a test dataframe"
   ]
  },
  {
   "cell_type": "code",
   "execution_count": 20,
   "metadata": {},
   "outputs": [
    {
     "name": "stderr",
     "output_type": "stream",
     "text": [
      "C:\\ProgramData\\Anaconda3\\lib\\site-packages\\ipykernel_launcher.py:4: DeprecationWarning: FancyURLopener style of invoking requests is deprecated. Use newer urlopen functions/methods\n",
      "  after removing the cwd from sys.path.\n"
     ]
    },
    {
     "name": "stdout",
     "output_type": "stream",
     "text": [
      "515400010001044"
     ]
    }
   ],
   "source": [
    "lltoblock(racks)"
   ]
  },
  {
   "cell_type": "code",
   "execution_count": null,
   "metadata": {},
   "outputs": [],
   "source": []
  }
 ],
 "metadata": {
  "kernelspec": {
   "display_name": "Python 3",
   "language": "python",
   "name": "python3"
  },
  "language_info": {
   "codemirror_mode": {
    "name": "ipython",
    "version": 3
   },
   "file_extension": ".py",
   "mimetype": "text/x-python",
   "name": "python",
   "nbconvert_exporter": "python",
   "pygments_lexer": "ipython3",
   "version": "3.6.5"
  }
 },
 "nbformat": 4,
 "nbformat_minor": 2
}
