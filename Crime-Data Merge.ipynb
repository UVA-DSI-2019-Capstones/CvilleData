{
 "cells": [
  {
   "cell_type": "markdown",
   "metadata": {},
   "source": [
    "# Analysis on a Preliminary Merge"
   ]
  },
  {
   "cell_type": "markdown",
   "metadata": {},
   "source": [
    "Import libraries"
   ]
  },
  {
   "cell_type": "code",
   "execution_count": 9,
   "metadata": {},
   "outputs": [],
   "source": [
    "import pandas as pd\n",
    "import LatLongtoBlock\n",
    "import pygeocoder\n",
    "#import address_to_lat_long as atll"
   ]
  },
  {
   "cell_type": "markdown",
   "metadata": {},
   "source": [
    "### Read in desired .csv files and glimpse structure"
   ]
  },
  {
   "cell_type": "code",
   "execution_count": 44,
   "metadata": {},
   "outputs": [
    {
     "data": {
      "text/html": [
       "<div>\n",
       "<style scoped>\n",
       "    .dataframe tbody tr th:only-of-type {\n",
       "        vertical-align: middle;\n",
       "    }\n",
       "\n",
       "    .dataframe tbody tr th {\n",
       "        vertical-align: top;\n",
       "    }\n",
       "\n",
       "    .dataframe thead th {\n",
       "        text-align: right;\n",
       "    }\n",
       "</style>\n",
       "<table border=\"1\" class=\"dataframe\">\n",
       "  <thead>\n",
       "    <tr style=\"text-align: right;\">\n",
       "      <th></th>\n",
       "      <th>Unnamed: 0</th>\n",
       "      <th>Offense</th>\n",
       "      <th>IncidentID</th>\n",
       "      <th>BlockNumber</th>\n",
       "      <th>StreetName</th>\n",
       "      <th>Agency</th>\n",
       "      <th>DateReported</th>\n",
       "      <th>HourReported</th>\n",
       "      <th>Address</th>\n",
       "      <th>Latitude</th>\n",
       "      <th>Longitude</th>\n",
       "    </tr>\n",
       "  </thead>\n",
       "  <tbody>\n",
       "    <tr>\n",
       "      <th>0</th>\n",
       "      <td>0</td>\n",
       "      <td>Burglary</td>\n",
       "      <td>201000073238</td>\n",
       "      <td>1700</td>\n",
       "      <td>ALLIED LN</td>\n",
       "      <td>CPD</td>\n",
       "      <td>2017-09-22T16:00:00.000Z</td>\n",
       "      <td>1200</td>\n",
       "      <td>1700 ALLIED LN, Charlottesville VA</td>\n",
       "      <td>38.041381</td>\n",
       "      <td>-78.479806</td>\n",
       "    </tr>\n",
       "    <tr>\n",
       "      <th>1</th>\n",
       "      <td>1</td>\n",
       "      <td>Drug/Narcotics Violation</td>\n",
       "      <td>201300002276</td>\n",
       "      <td>1200</td>\n",
       "      <td>LANDONIA CIR</td>\n",
       "      <td>CPD</td>\n",
       "      <td>2013-12-13T16:03:00.000Z</td>\n",
       "      <td>1103</td>\n",
       "      <td>1200 LANDONIA CIR, Charlottesville VA</td>\n",
       "      <td>38.036315</td>\n",
       "      <td>-78.462432</td>\n",
       "    </tr>\n",
       "    <tr>\n",
       "      <th>2</th>\n",
       "      <td>2</td>\n",
       "      <td>Drug/Narcotics Violation</td>\n",
       "      <td>201300002481</td>\n",
       "      <td>500</td>\n",
       "      <td>WATER ST</td>\n",
       "      <td>CPD</td>\n",
       "      <td>2014-01-02T19:00:00.000Z</td>\n",
       "      <td>1400</td>\n",
       "      <td>500 WATER ST, Charlottesville VA</td>\n",
       "      <td>38.029081</td>\n",
       "      <td>-78.478864</td>\n",
       "    </tr>\n",
       "    <tr>\n",
       "      <th>3</th>\n",
       "      <td>3</td>\n",
       "      <td>Drug/Narcotics Violation</td>\n",
       "      <td>201300003848</td>\n",
       "      <td>100</td>\n",
       "      <td>DICE ST</td>\n",
       "      <td>CPD</td>\n",
       "      <td>2014-02-18T23:30:00.000Z</td>\n",
       "      <td>1830</td>\n",
       "      <td>100 DICE ST, Charlottesville VA</td>\n",
       "      <td>38.027426</td>\n",
       "      <td>-78.483989</td>\n",
       "    </tr>\n",
       "    <tr>\n",
       "      <th>4</th>\n",
       "      <td>4</td>\n",
       "      <td>Drug/Narcotics Violation</td>\n",
       "      <td>201300004323</td>\n",
       "      <td>1800</td>\n",
       "      <td>HYDRAULIC RD</td>\n",
       "      <td>CPD</td>\n",
       "      <td>2013-12-27T19:00:00.000Z</td>\n",
       "      <td>1400</td>\n",
       "      <td>1800 HYDRAULIC RD, Charlottesville VA</td>\n",
       "      <td>38.060175</td>\n",
       "      <td>-78.490386</td>\n",
       "    </tr>\n",
       "  </tbody>\n",
       "</table>\n",
       "</div>"
      ],
      "text/plain": [
       "   Unnamed: 0                   Offense    IncidentID  BlockNumber  \\\n",
       "0           0                  Burglary  201000073238         1700   \n",
       "1           1  Drug/Narcotics Violation  201300002276         1200   \n",
       "2           2  Drug/Narcotics Violation  201300002481          500   \n",
       "3           3  Drug/Narcotics Violation  201300003848          100   \n",
       "4           4  Drug/Narcotics Violation  201300004323         1800   \n",
       "\n",
       "     StreetName Agency              DateReported  HourReported  \\\n",
       "0     ALLIED LN    CPD  2017-09-22T16:00:00.000Z          1200   \n",
       "1  LANDONIA CIR    CPD  2013-12-13T16:03:00.000Z          1103   \n",
       "2      WATER ST    CPD  2014-01-02T19:00:00.000Z          1400   \n",
       "3       DICE ST    CPD  2014-02-18T23:30:00.000Z          1830   \n",
       "4  HYDRAULIC RD    CPD  2013-12-27T19:00:00.000Z          1400   \n",
       "\n",
       "                                 Address   Latitude  Longitude  \n",
       "0     1700 ALLIED LN, Charlottesville VA  38.041381 -78.479806  \n",
       "1  1200 LANDONIA CIR, Charlottesville VA  38.036315 -78.462432  \n",
       "2       500 WATER ST, Charlottesville VA  38.029081 -78.478864  \n",
       "3        100 DICE ST, Charlottesville VA  38.027426 -78.483989  \n",
       "4  1800 HYDRAULIC RD, Charlottesville VA  38.060175 -78.490386  "
      ]
     },
     "execution_count": 44,
     "metadata": {},
     "output_type": "execute_result"
    }
   ],
   "source": [
    "crime = pd.read_csv('crime_ll.csv').drop(crime.columns[0], axis=1)\n",
    "crime.head()"
   ]
  },
  {
   "cell_type": "code",
   "execution_count": 45,
   "metadata": {},
   "outputs": [
    {
     "data": {
      "text/html": [
       "<div>\n",
       "<style scoped>\n",
       "    .dataframe tbody tr th:only-of-type {\n",
       "        vertical-align: middle;\n",
       "    }\n",
       "\n",
       "    .dataframe tbody tr th {\n",
       "        vertical-align: top;\n",
       "    }\n",
       "\n",
       "    .dataframe thead th {\n",
       "        text-align: right;\n",
       "    }\n",
       "</style>\n",
       "<table border=\"1\" class=\"dataframe\">\n",
       "  <thead>\n",
       "    <tr style=\"text-align: right;\">\n",
       "      <th></th>\n",
       "      <th>X</th>\n",
       "      <th>Y</th>\n",
       "      <th>OBJECTID</th>\n",
       "      <th>stop_id</th>\n",
       "      <th>stop_code</th>\n",
       "      <th>stop_name</th>\n",
       "      <th>stop_lat</th>\n",
       "      <th>stop_lon</th>\n",
       "    </tr>\n",
       "  </thead>\n",
       "  <tbody>\n",
       "    <tr>\n",
       "      <th>0</th>\n",
       "      <td>-78.507706</td>\n",
       "      <td>38.036545</td>\n",
       "      <td>2916</td>\n",
       "      <td>1</td>\n",
       "      <td>10472</td>\n",
       "      <td>Emmet St at Central Grounds Garage</td>\n",
       "      <td>38.036545</td>\n",
       "      <td>-78.507706</td>\n",
       "    </tr>\n",
       "    <tr>\n",
       "      <th>1</th>\n",
       "      <td>-78.507065</td>\n",
       "      <td>38.038326</td>\n",
       "      <td>2917</td>\n",
       "      <td>2</td>\n",
       "      <td>10660</td>\n",
       "      <td>Emmet St at Snyder Tennis Courts</td>\n",
       "      <td>38.038326</td>\n",
       "      <td>-78.507065</td>\n",
       "    </tr>\n",
       "    <tr>\n",
       "      <th>2</th>\n",
       "      <td>-78.516357</td>\n",
       "      <td>38.029072</td>\n",
       "      <td>2918</td>\n",
       "      <td>3</td>\n",
       "      <td>10687</td>\n",
       "      <td>Alderman Road at Stadium Rd northbound</td>\n",
       "      <td>38.029072</td>\n",
       "      <td>-78.516357</td>\n",
       "    </tr>\n",
       "    <tr>\n",
       "      <th>3</th>\n",
       "      <td>-78.480141</td>\n",
       "      <td>38.029556</td>\n",
       "      <td>2919</td>\n",
       "      <td>4</td>\n",
       "      <td>11015</td>\n",
       "      <td>East Water St at 3rd St SE</td>\n",
       "      <td>38.029556</td>\n",
       "      <td>-78.480141</td>\n",
       "    </tr>\n",
       "    <tr>\n",
       "      <th>4</th>\n",
       "      <td>-78.484268</td>\n",
       "      <td>38.030975</td>\n",
       "      <td>2920</td>\n",
       "      <td>5</td>\n",
       "      <td>11036</td>\n",
       "      <td>West Water St at Omni</td>\n",
       "      <td>38.030975</td>\n",
       "      <td>-78.484268</td>\n",
       "    </tr>\n",
       "  </tbody>\n",
       "</table>\n",
       "</div>"
      ],
      "text/plain": [
       "           X          Y  OBJECTID  stop_id  stop_code  \\\n",
       "0 -78.507706  38.036545      2916        1      10472   \n",
       "1 -78.507065  38.038326      2917        2      10660   \n",
       "2 -78.516357  38.029072      2918        3      10687   \n",
       "3 -78.480141  38.029556      2919        4      11015   \n",
       "4 -78.484268  38.030975      2920        5      11036   \n",
       "\n",
       "                                stop_name   stop_lat   stop_lon  \n",
       "0      Emmet St at Central Grounds Garage  38.036545 -78.507706  \n",
       "1        Emmet St at Snyder Tennis Courts  38.038326 -78.507065  \n",
       "2  Alderman Road at Stadium Rd northbound  38.029072 -78.516357  \n",
       "3              East Water St at 3rd St SE  38.029556 -78.480141  \n",
       "4                   West Water St at Omni  38.030975 -78.484268  "
      ]
     },
     "execution_count": 45,
     "metadata": {},
     "output_type": "execute_result"
    }
   ],
   "source": [
    "busstops = pd.read_csv('./data/cat_bus_stop_points.csv')\n",
    "busstops.head()"
   ]
  },
  {
   "cell_type": "markdown",
   "metadata": {},
   "source": [
    "### Adjust data to have block numbers"
   ]
  },
  {
   "cell_type": "markdown",
   "metadata": {},
   "source": [
    "Add a Block column to busstops (by converting lat/long to a block number)"
   ]
  },
  {
   "cell_type": "code",
   "execution_count": 10,
   "metadata": {},
   "outputs": [],
   "source": [
    "busstops['Block'] = LatLongtoBlock.lltoblock(busstops)"
   ]
  },
  {
   "cell_type": "markdown",
   "metadata": {},
   "source": [
    "Check that it went through okay"
   ]
  },
  {
   "cell_type": "code",
   "execution_count": 11,
   "metadata": {},
   "outputs": [
    {
     "data": {
      "text/html": [
       "<div>\n",
       "<style scoped>\n",
       "    .dataframe tbody tr th:only-of-type {\n",
       "        vertical-align: middle;\n",
       "    }\n",
       "\n",
       "    .dataframe tbody tr th {\n",
       "        vertical-align: top;\n",
       "    }\n",
       "\n",
       "    .dataframe thead th {\n",
       "        text-align: right;\n",
       "    }\n",
       "</style>\n",
       "<table border=\"1\" class=\"dataframe\">\n",
       "  <thead>\n",
       "    <tr style=\"text-align: right;\">\n",
       "      <th></th>\n",
       "      <th>X</th>\n",
       "      <th>Y</th>\n",
       "      <th>OBJECTID</th>\n",
       "      <th>stop_id</th>\n",
       "      <th>stop_code</th>\n",
       "      <th>stop_name</th>\n",
       "      <th>stop_lat</th>\n",
       "      <th>stop_lon</th>\n",
       "      <th>Block</th>\n",
       "    </tr>\n",
       "  </thead>\n",
       "  <tbody>\n",
       "    <tr>\n",
       "      <th>0</th>\n",
       "      <td>-78.507706</td>\n",
       "      <td>38.036545</td>\n",
       "      <td>2916</td>\n",
       "      <td>1</td>\n",
       "      <td>10472</td>\n",
       "      <td>Emmet St at Central Grounds Garage</td>\n",
       "      <td>38.036545</td>\n",
       "      <td>-78.507706</td>\n",
       "      <td>510030109032003</td>\n",
       "    </tr>\n",
       "    <tr>\n",
       "      <th>1</th>\n",
       "      <td>-78.507065</td>\n",
       "      <td>38.038326</td>\n",
       "      <td>2917</td>\n",
       "      <td>2</td>\n",
       "      <td>10660</td>\n",
       "      <td>Emmet St at Snyder Tennis Courts</td>\n",
       "      <td>38.038326</td>\n",
       "      <td>-78.507065</td>\n",
       "      <td>510030109032003</td>\n",
       "    </tr>\n",
       "    <tr>\n",
       "      <th>2</th>\n",
       "      <td>-78.516357</td>\n",
       "      <td>38.029072</td>\n",
       "      <td>2918</td>\n",
       "      <td>3</td>\n",
       "      <td>10687</td>\n",
       "      <td>Alderman Road at Stadium Rd northbound</td>\n",
       "      <td>38.029072</td>\n",
       "      <td>-78.516357</td>\n",
       "      <td>510030109031003</td>\n",
       "    </tr>\n",
       "    <tr>\n",
       "      <th>3</th>\n",
       "      <td>-78.480141</td>\n",
       "      <td>38.029556</td>\n",
       "      <td>2919</td>\n",
       "      <td>4</td>\n",
       "      <td>11015</td>\n",
       "      <td>East Water St at 3rd St SE</td>\n",
       "      <td>38.029556</td>\n",
       "      <td>-78.480141</td>\n",
       "      <td>515400010001043</td>\n",
       "    </tr>\n",
       "    <tr>\n",
       "      <th>4</th>\n",
       "      <td>-78.484268</td>\n",
       "      <td>38.030975</td>\n",
       "      <td>2920</td>\n",
       "      <td>5</td>\n",
       "      <td>11036</td>\n",
       "      <td>West Water St at Omni</td>\n",
       "      <td>38.030975</td>\n",
       "      <td>-78.484268</td>\n",
       "      <td>515400010001020</td>\n",
       "    </tr>\n",
       "  </tbody>\n",
       "</table>\n",
       "</div>"
      ],
      "text/plain": [
       "           X          Y  OBJECTID  stop_id  stop_code  \\\n",
       "0 -78.507706  38.036545      2916        1      10472   \n",
       "1 -78.507065  38.038326      2917        2      10660   \n",
       "2 -78.516357  38.029072      2918        3      10687   \n",
       "3 -78.480141  38.029556      2919        4      11015   \n",
       "4 -78.484268  38.030975      2920        5      11036   \n",
       "\n",
       "                                stop_name   stop_lat   stop_lon  \\\n",
       "0      Emmet St at Central Grounds Garage  38.036545 -78.507706   \n",
       "1        Emmet St at Snyder Tennis Courts  38.038326 -78.507065   \n",
       "2  Alderman Road at Stadium Rd northbound  38.029072 -78.516357   \n",
       "3              East Water St at 3rd St SE  38.029556 -78.480141   \n",
       "4                   West Water St at Omni  38.030975 -78.484268   \n",
       "\n",
       "             Block  \n",
       "0  510030109032003  \n",
       "1  510030109032003  \n",
       "2  510030109031003  \n",
       "3  515400010001043  \n",
       "4  515400010001020  "
      ]
     },
     "execution_count": 11,
     "metadata": {},
     "output_type": "execute_result"
    }
   ],
   "source": [
    "busstops.head()"
   ]
  },
  {
   "cell_type": "markdown",
   "metadata": {},
   "source": [
    "Store it"
   ]
  },
  {
   "cell_type": "code",
   "execution_count": 57,
   "metadata": {},
   "outputs": [],
   "source": [
    "busstops.to_csv('./data_with_blocks/busstops_with_block.csv')"
   ]
  },
  {
   "cell_type": "markdown",
   "metadata": {},
   "source": [
    "Add a block column to crime (by converting from address to lat/long to a block number)"
   ]
  },
  {
   "cell_type": "code",
   "execution_count": 27,
   "metadata": {},
   "outputs": [
    {
     "data": {
      "text/plain": [
       "False"
      ]
     },
     "execution_count": 27,
     "metadata": {},
     "output_type": "execute_result"
    }
   ],
   "source": [
    "'X' in crime.columns and 'Y' in crime.columns"
   ]
  },
  {
   "cell_type": "code",
   "execution_count": 39,
   "metadata": {},
   "outputs": [],
   "source": [
    "import urllib.request\n",
    "import re\n",
    "def lltoblock(df):\n",
    "    \n",
    "    # Create empty array for storing block number\n",
    "    block_list = pd.Series([])\n",
    "    \n",
    "    # Create opener\n",
    "    opener = urllib.request.FancyURLopener({})\n",
    "    \n",
    "    if 'X' in df.columns and 'Y' in df.columns:\n",
    "        lat = df['Y']\n",
    "        lng = df['X']\n",
    "    elif 'Latitude' in df.columns and 'Longitude' in df.columns:\n",
    "        lat = df['Latitude']\n",
    "        lng = df['Longitude']\n",
    "    elif 'Meter_Lat' in df.columns and 'Meter_Long' in df.columns:\n",
    "        lat = df['Meter_Lat']\n",
    "        lng = df['Meter_Long']\n",
    "    else:\n",
    "        lat = None\n",
    "        lng = None\n",
    "    \n",
    "    \n",
    "    # Iterate over all rows of dataframe\n",
    "    for i in range(len(df)):\n",
    "        \n",
    "        # Create url from lat/long\n",
    "        url = 'https://geo.fcc.gov/api/census/block/find?latitude='\\\n",
    "        + str(lat[i]) + '&longitude=' + str(lng[i]) + '&showall=false&format=json'\n",
    "        \n",
    "        # Store webpage contents\n",
    "        f = opener.open(url)\n",
    "        content = f.read()\n",
    "        \n",
    "        # Get block number out of content string\n",
    "        try:\n",
    "            block = re.search(r\".*FIPS\\\":\\\" *(.*?) *\\\",\\\"bbox.*\", str(content)).group(1)\n",
    "        except:\n",
    "            block = None\n",
    "        # Add current block number to our block array\n",
    "        block_list[i] = block\n",
    "        \n",
    "    # Return the list of block numbers\n",
    "    return block_list"
   ]
  },
  {
   "cell_type": "code",
   "execution_count": 40,
   "metadata": {},
   "outputs": [
    {
     "name": "stderr",
     "output_type": "stream",
     "text": [
      "C:\\ProgramData\\Anaconda3\\lib\\site-packages\\ipykernel_launcher.py:9: DeprecationWarning: FancyURLopener style of invoking requests is deprecated. Use newer urlopen functions/methods\n",
      "  if __name__ == '__main__':\n"
     ]
    }
   ],
   "source": [
    "crime['Block'] = LatLongtoBlock.lltoblock(crime)"
   ]
  },
  {
   "cell_type": "markdown",
   "metadata": {},
   "source": [
    "Check that it went through okay"
   ]
  },
  {
   "cell_type": "code",
   "execution_count": 41,
   "metadata": {},
   "outputs": [
    {
     "data": {
      "text/html": [
       "<div>\n",
       "<style scoped>\n",
       "    .dataframe tbody tr th:only-of-type {\n",
       "        vertical-align: middle;\n",
       "    }\n",
       "\n",
       "    .dataframe tbody tr th {\n",
       "        vertical-align: top;\n",
       "    }\n",
       "\n",
       "    .dataframe thead th {\n",
       "        text-align: right;\n",
       "    }\n",
       "</style>\n",
       "<table border=\"1\" class=\"dataframe\">\n",
       "  <thead>\n",
       "    <tr style=\"text-align: right;\">\n",
       "      <th></th>\n",
       "      <th>RecordID</th>\n",
       "      <th>Offense</th>\n",
       "      <th>IncidentID</th>\n",
       "      <th>BlockNumber</th>\n",
       "      <th>StreetName</th>\n",
       "      <th>Agency</th>\n",
       "      <th>DateReported</th>\n",
       "      <th>HourReported</th>\n",
       "      <th>Address</th>\n",
       "      <th>Latitude</th>\n",
       "      <th>Longitude</th>\n",
       "      <th>Block</th>\n",
       "    </tr>\n",
       "  </thead>\n",
       "  <tbody>\n",
       "    <tr>\n",
       "      <th>0</th>\n",
       "      <td>1</td>\n",
       "      <td>Burglary</td>\n",
       "      <td>201000073238</td>\n",
       "      <td>1700</td>\n",
       "      <td>ALLIED LN</td>\n",
       "      <td>CPD</td>\n",
       "      <td>2017-09-22T16:00:00.000Z</td>\n",
       "      <td>1200</td>\n",
       "      <td>1700 ALLIED LN, Charlottesville VA</td>\n",
       "      <td>38.041381</td>\n",
       "      <td>-78.479806</td>\n",
       "      <td>515400010002017</td>\n",
       "    </tr>\n",
       "    <tr>\n",
       "      <th>1</th>\n",
       "      <td>2</td>\n",
       "      <td>Drug/Narcotics Violation</td>\n",
       "      <td>201300002276</td>\n",
       "      <td>1200</td>\n",
       "      <td>LANDONIA CIR</td>\n",
       "      <td>CPD</td>\n",
       "      <td>2013-12-13T16:03:00.000Z</td>\n",
       "      <td>1103</td>\n",
       "      <td>1200 LANDONIA CIR, Charlottesville VA</td>\n",
       "      <td>38.036315</td>\n",
       "      <td>-78.462432</td>\n",
       "      <td>515400003021007</td>\n",
       "    </tr>\n",
       "    <tr>\n",
       "      <th>2</th>\n",
       "      <td>3</td>\n",
       "      <td>Drug/Narcotics Violation</td>\n",
       "      <td>201300002481</td>\n",
       "      <td>500</td>\n",
       "      <td>WATER ST</td>\n",
       "      <td>CPD</td>\n",
       "      <td>2014-01-02T19:00:00.000Z</td>\n",
       "      <td>1400</td>\n",
       "      <td>500 WATER ST, Charlottesville VA</td>\n",
       "      <td>38.029081</td>\n",
       "      <td>-78.478864</td>\n",
       "      <td>515400010001062</td>\n",
       "    </tr>\n",
       "    <tr>\n",
       "      <th>3</th>\n",
       "      <td>4</td>\n",
       "      <td>Drug/Narcotics Violation</td>\n",
       "      <td>201300003848</td>\n",
       "      <td>100</td>\n",
       "      <td>DICE ST</td>\n",
       "      <td>CPD</td>\n",
       "      <td>2014-02-18T23:30:00.000Z</td>\n",
       "      <td>1830</td>\n",
       "      <td>100 DICE ST, Charlottesville VA</td>\n",
       "      <td>38.027426</td>\n",
       "      <td>-78.483989</td>\n",
       "      <td>515400004011006</td>\n",
       "    </tr>\n",
       "    <tr>\n",
       "      <th>4</th>\n",
       "      <td>5</td>\n",
       "      <td>Drug/Narcotics Violation</td>\n",
       "      <td>201300004323</td>\n",
       "      <td>1800</td>\n",
       "      <td>HYDRAULIC RD</td>\n",
       "      <td>CPD</td>\n",
       "      <td>2013-12-27T19:00:00.000Z</td>\n",
       "      <td>1400</td>\n",
       "      <td>1800 HYDRAULIC RD, Charlottesville VA</td>\n",
       "      <td>38.060175</td>\n",
       "      <td>-78.490386</td>\n",
       "      <td>515400008004001</td>\n",
       "    </tr>\n",
       "  </tbody>\n",
       "</table>\n",
       "</div>"
      ],
      "text/plain": [
       "   RecordID                   Offense    IncidentID  BlockNumber  \\\n",
       "0         1                  Burglary  201000073238         1700   \n",
       "1         2  Drug/Narcotics Violation  201300002276         1200   \n",
       "2         3  Drug/Narcotics Violation  201300002481          500   \n",
       "3         4  Drug/Narcotics Violation  201300003848          100   \n",
       "4         5  Drug/Narcotics Violation  201300004323         1800   \n",
       "\n",
       "     StreetName Agency              DateReported  HourReported  \\\n",
       "0     ALLIED LN    CPD  2017-09-22T16:00:00.000Z          1200   \n",
       "1  LANDONIA CIR    CPD  2013-12-13T16:03:00.000Z          1103   \n",
       "2      WATER ST    CPD  2014-01-02T19:00:00.000Z          1400   \n",
       "3       DICE ST    CPD  2014-02-18T23:30:00.000Z          1830   \n",
       "4  HYDRAULIC RD    CPD  2013-12-27T19:00:00.000Z          1400   \n",
       "\n",
       "                                 Address   Latitude  Longitude  \\\n",
       "0     1700 ALLIED LN, Charlottesville VA  38.041381 -78.479806   \n",
       "1  1200 LANDONIA CIR, Charlottesville VA  38.036315 -78.462432   \n",
       "2       500 WATER ST, Charlottesville VA  38.029081 -78.478864   \n",
       "3        100 DICE ST, Charlottesville VA  38.027426 -78.483989   \n",
       "4  1800 HYDRAULIC RD, Charlottesville VA  38.060175 -78.490386   \n",
       "\n",
       "             Block  \n",
       "0  515400010002017  \n",
       "1  515400003021007  \n",
       "2  515400010001062  \n",
       "3  515400004011006  \n",
       "4  515400008004001  "
      ]
     },
     "execution_count": 41,
     "metadata": {},
     "output_type": "execute_result"
    }
   ],
   "source": [
    "crime.head()"
   ]
  },
  {
   "cell_type": "code",
   "execution_count": 42,
   "metadata": {},
   "outputs": [],
   "source": [
    "crime.to_csv('./data_with_blocks/crime_with_block.csv')"
   ]
  },
  {
   "cell_type": "markdown",
   "metadata": {},
   "source": [
    "### Merging the Data"
   ]
  },
  {
   "cell_type": "markdown",
   "metadata": {},
   "source": [
    "Read in stored crime (with block) data, with block data read as a string, so we don't get unnecessary rounding/integer treatment"
   ]
  },
  {
   "cell_type": "code",
   "execution_count": 58,
   "metadata": {},
   "outputs": [],
   "source": [
    "crime = pd.read_csv('./data_with_blocks/crime_with_block.csv', dtype={'Block': str})\n",
    "busstops = pd.read_csv('./data_with_blocks/busstops_with_block.csv', dtype={'Block': str})"
   ]
  },
  {
   "cell_type": "markdown",
   "metadata": {},
   "source": [
    "Get counts of each block's number of busstops and number of crimes"
   ]
  },
  {
   "cell_type": "code",
   "execution_count": 59,
   "metadata": {},
   "outputs": [],
   "source": [
    "crime_counts = crime['Block'].value_counts()\n",
    "busstop_counts = busstops['Block'].value_counts()"
   ]
  },
  {
   "cell_type": "markdown",
   "metadata": {},
   "source": [
    "Check on their output"
   ]
  },
  {
   "cell_type": "code",
   "execution_count": 60,
   "metadata": {},
   "outputs": [
    {
     "data": {
      "text/plain": [
       "515400010001009    1849\n",
       "515400004012000     877\n",
       "515400005013000     633\n",
       "515400010001030     499\n",
       "515400007002013     482\n",
       "Name: Block, dtype: int64"
      ]
     },
     "execution_count": 60,
     "metadata": {},
     "output_type": "execute_result"
    }
   ],
   "source": [
    "crime_counts.head()"
   ]
  },
  {
   "cell_type": "code",
   "execution_count": 61,
   "metadata": {},
   "outputs": [
    {
     "data": {
      "text/plain": [
       "510030107003000    5\n",
       "510030109032007    5\n",
       "515400003022005    5\n",
       "515400004011004    4\n",
       "515400004012010    4\n",
       "Name: Block, dtype: int64"
      ]
     },
     "execution_count": 61,
     "metadata": {},
     "output_type": "execute_result"
    }
   ],
   "source": [
    "busstop_counts.head()"
   ]
  },
  {
   "cell_type": "markdown",
   "metadata": {},
   "source": [
    "Merge the two"
   ]
  },
  {
   "cell_type": "code",
   "execution_count": 69,
   "metadata": {},
   "outputs": [],
   "source": [
    "crime_busstops = pd.DataFrame(data=dict(Crimes=crime_counts, BusStops=busstop_counts)).fillna(0)"
   ]
  },
  {
   "cell_type": "code",
   "execution_count": 70,
   "metadata": {},
   "outputs": [
    {
     "data": {
      "text/html": [
       "<div>\n",
       "<style scoped>\n",
       "    .dataframe tbody tr th:only-of-type {\n",
       "        vertical-align: middle;\n",
       "    }\n",
       "\n",
       "    .dataframe tbody tr th {\n",
       "        vertical-align: top;\n",
       "    }\n",
       "\n",
       "    .dataframe thead th {\n",
       "        text-align: right;\n",
       "    }\n",
       "</style>\n",
       "<table border=\"1\" class=\"dataframe\">\n",
       "  <thead>\n",
       "    <tr style=\"text-align: right;\">\n",
       "      <th></th>\n",
       "      <th>Crimes</th>\n",
       "      <th>BusStops</th>\n",
       "    </tr>\n",
       "  </thead>\n",
       "  <tbody>\n",
       "    <tr>\n",
       "      <th>510030101001002</th>\n",
       "      <td>1.0</td>\n",
       "      <td>0.0</td>\n",
       "    </tr>\n",
       "    <tr>\n",
       "      <th>510030102011019</th>\n",
       "      <td>1.0</td>\n",
       "      <td>0.0</td>\n",
       "    </tr>\n",
       "    <tr>\n",
       "      <th>510030102011039</th>\n",
       "      <td>1.0</td>\n",
       "      <td>0.0</td>\n",
       "    </tr>\n",
       "    <tr>\n",
       "      <th>510030102011052</th>\n",
       "      <td>1.0</td>\n",
       "      <td>0.0</td>\n",
       "    </tr>\n",
       "    <tr>\n",
       "      <th>510030102011056</th>\n",
       "      <td>12.0</td>\n",
       "      <td>0.0</td>\n",
       "    </tr>\n",
       "  </tbody>\n",
       "</table>\n",
       "</div>"
      ],
      "text/plain": [
       "                 Crimes  BusStops\n",
       "510030101001002     1.0       0.0\n",
       "510030102011019     1.0       0.0\n",
       "510030102011039     1.0       0.0\n",
       "510030102011052     1.0       0.0\n",
       "510030102011056    12.0       0.0"
      ]
     },
     "execution_count": 70,
     "metadata": {},
     "output_type": "execute_result"
    }
   ],
   "source": [
    "crime_busstops.head()"
   ]
  },
  {
   "cell_type": "markdown",
   "metadata": {},
   "source": [
    "Try out a test case to make sure the merge was successful"
   ]
  },
  {
   "cell_type": "code",
   "execution_count": 71,
   "metadata": {},
   "outputs": [],
   "source": [
    "test_case = '515400010002023'"
   ]
  },
  {
   "cell_type": "code",
   "execution_count": 72,
   "metadata": {},
   "outputs": [
    {
     "data": {
      "text/html": [
       "<div>\n",
       "<style scoped>\n",
       "    .dataframe tbody tr th:only-of-type {\n",
       "        vertical-align: middle;\n",
       "    }\n",
       "\n",
       "    .dataframe tbody tr th {\n",
       "        vertical-align: top;\n",
       "    }\n",
       "\n",
       "    .dataframe thead th {\n",
       "        text-align: right;\n",
       "    }\n",
       "</style>\n",
       "<table border=\"1\" class=\"dataframe\">\n",
       "  <thead>\n",
       "    <tr style=\"text-align: right;\">\n",
       "      <th></th>\n",
       "      <th>Crimes</th>\n",
       "      <th>BusStops</th>\n",
       "    </tr>\n",
       "  </thead>\n",
       "  <tbody>\n",
       "    <tr>\n",
       "      <th>515400010002023</th>\n",
       "      <td>84.0</td>\n",
       "      <td>1.0</td>\n",
       "    </tr>\n",
       "  </tbody>\n",
       "</table>\n",
       "</div>"
      ],
      "text/plain": [
       "                 Crimes  BusStops\n",
       "515400010002023    84.0       1.0"
      ]
     },
     "execution_count": 72,
     "metadata": {},
     "output_type": "execute_result"
    }
   ],
   "source": [
    "crime_busstops[crime_busstops.index == test_case]"
   ]
  },
  {
   "cell_type": "code",
   "execution_count": 73,
   "metadata": {},
   "outputs": [
    {
     "data": {
      "text/plain": [
       "515400010002023    84\n",
       "Name: Block, dtype: int64"
      ]
     },
     "execution_count": 73,
     "metadata": {},
     "output_type": "execute_result"
    }
   ],
   "source": [
    "crime_counts[crime_counts.index == test_case]"
   ]
  },
  {
   "cell_type": "code",
   "execution_count": 74,
   "metadata": {},
   "outputs": [
    {
     "data": {
      "text/plain": [
       "515400010002023    1\n",
       "Name: Block, dtype: int64"
      ]
     },
     "execution_count": 74,
     "metadata": {},
     "output_type": "execute_result"
    }
   ],
   "source": [
    "busstop_counts[busstop_counts.index == test_case]"
   ]
  },
  {
   "cell_type": "markdown",
   "metadata": {},
   "source": [
    "Looks good"
   ]
  }
 ],
 "metadata": {
  "kernelspec": {
   "display_name": "Python 3",
   "language": "python",
   "name": "python3"
  },
  "language_info": {
   "codemirror_mode": {
    "name": "ipython",
    "version": 3
   },
   "file_extension": ".py",
   "mimetype": "text/x-python",
   "name": "python",
   "nbconvert_exporter": "python",
   "pygments_lexer": "ipython3",
   "version": "3.6.5"
  }
 },
 "nbformat": 4,
 "nbformat_minor": 2
}
