{
 "cells": [
  {
   "cell_type": "markdown",
   "metadata": {},
   "source": [
    "# Convert Lat/Long to Block Number"
   ]
  },
  {
   "cell_type": "markdown",
   "metadata": {},
   "source": [
    "Import libraries"
   ]
  },
  {
   "cell_type": "code",
   "execution_count": 11,
   "metadata": {},
   "outputs": [],
   "source": [
    "import pandas as pd\n",
    "import sys\n",
    "import time\n",
    "import urllib.request\n",
    "import re"
   ]
  },
  {
   "cell_type": "markdown",
   "metadata": {},
   "source": [
    "Read in arbitrary dataframe for testing"
   ]
  },
  {
   "cell_type": "code",
   "execution_count": 5,
   "metadata": {},
   "outputs": [],
   "source": [
    "racks = pd.read_csv('data/bicycle_rack_points.csv')"
   ]
  },
  {
   "cell_type": "markdown",
   "metadata": {},
   "source": [
    "Function to scrape FCC website for block number by lat/long. Just insert a dataframe with lat and long labeled as Y and X columns, respectively. It'll output a pandas Series of block numbers (you'll need to manually tack it on to the dataframe)."
   ]
  },
  {
   "cell_type": "code",
   "execution_count": 8,
   "metadata": {},
   "outputs": [],
   "source": [
    "def lltoblock(df):\n",
    "\n",
    "    # Create empty array for storing block number\n",
    "    block_list = pd.Series([])\n",
    "\n",
    "    # Create opener\n",
    "    opener = urllib.request.FancyURLopener({})\n",
    "\n",
    "    if 'X' in df.columns and 'Y' in df.columns:\n",
    "        lat = df['Y']\n",
    "        lng = df['X']\n",
    "    elif 'Latitude' in df.columns and 'Longitude' in df.columns:\n",
    "        lat = df['Latitude']\n",
    "        lng = df['Longitude']\n",
    "    elif 'Meter_Lat' in df.columns and 'Meter_Long' in df.columns:\n",
    "        lat = df['Meter_Lat']\n",
    "        lng = df['Meter_Long']\n",
    "    else:\n",
    "        lat = None\n",
    "        lng = None\n",
    "\n",
    "\n",
    "    # Iterate over all rows of dataframe\n",
    "    for i in range(len(df)):\n",
    "\n",
    "        # Create url from lat/long\n",
    "        url = 'https://geo.fcc.gov/api/census/block/find?latitude='\\\n",
    "        + str(lat[i]) + '&longitude=' + str(lng[i]) + '&showall=false&format=json'\n",
    "\n",
    "        # Store webpage contents\n",
    "        f = opener.open(url)\n",
    "        content = f.read()\n",
    "\n",
    "        # Get block number out of content string\n",
    "        block = re.search(r\".*FIPS\\\":\\\" *(.*?) *\\\",\\\"bbox.*\", str(content)).group(1)\n",
    "\n",
    "        # Add current block number to our block array\n",
    "        block_list[i] = block\n",
    "\n",
    "    # Return the list of block numbers\n",
    "    return block_list"
   ]
  },
  {
   "cell_type": "markdown",
   "metadata": {},
   "source": [
    "Call the function on a test dataframe"
   ]
  },
  {
   "cell_type": "code",
   "execution_count": 9,
   "metadata": {},
   "outputs": [
    {
     "name": "stderr",
     "output_type": "stream",
     "text": [
      "C:\\ProgramData\\Anaconda3\\lib\\site-packages\\ipykernel_launcher.py:7: DeprecationWarning: FancyURLopener style of invoking requests is deprecated. Use newer urlopen functions/methods\n",
      "  import sys\n"
     ]
    },
    {
     "data": {
      "text/plain": [
       "0    515400002021030\n",
       "1    515400007003009\n",
       "2    515400010001056\n",
       "3    515400002022008\n",
       "4    515400002021030\n",
       "dtype: object"
      ]
     },
     "execution_count": 9,
     "metadata": {},
     "output_type": "execute_result"
    }
   ],
   "source": [
    "lltoblock(racks).head()"
   ]
  },
  {
   "cell_type": "code",
   "execution_count": 10,
   "metadata": {},
   "outputs": [
    {
     "name": "stderr",
     "output_type": "stream",
     "text": [
      "C:\\ProgramData\\Anaconda3\\lib\\site-packages\\ipykernel_launcher.py:7: DeprecationWarning: FancyURLopener style of invoking requests is deprecated. Use newer urlopen functions/methods\n",
      "  import sys\n"
     ]
    },
    {
     "data": {
      "text/plain": [
       "0    515400010001043\n",
       "1    515400010001043\n",
       "2    515400010001043\n",
       "3    515400010001043\n",
       "4    515400010001043\n",
       "dtype: object"
      ]
     },
     "execution_count": 10,
     "metadata": {},
     "output_type": "execute_result"
    }
   ],
   "source": [
    "lltoblock(pd.read_csv('./data/parking_meter_pilot_data_.csv').iloc[:5,:])"
   ]
  },
  {
   "cell_type": "code",
   "execution_count": 62,
   "metadata": {},
   "outputs": [],
   "source": [
    "def addresstoll(df):\n",
    "   \n",
    "    # Create empty lists for lats and lngs\n",
    "    lat_list = pd.Series([])\n",
    "    lng_list = pd.Series([])    \n",
    "    \n",
    "    # Create opener\n",
    "    opener = urllib.request.FancyURLopener({})\n",
    "        \n",
    "    # Iterate over all rows of dataframe\n",
    "    for i in range(len(df)):\n",
    "        \n",
    "        # Get block number (street number) and street name\n",
    "        block = df['BlockNumber'][i]\n",
    "        street = df['StreetName'][i]\n",
    "        \n",
    "        # Create url from these\n",
    "        url = 'http://www.datasciencetoolkit.org/street2coordinates/'        + str(block) + '+' + str(street) + '+' + 'Charlottesville+VA'\n",
    "        \n",
    "        # Store webpage contents\n",
    "        f = opener.open(url)\n",
    "        content = f.read()\n",
    "        \n",
    "        # Get lat and long out of content string\n",
    "        lat = re.search(r\".*latitude\\\": *(.*?) *,\\n*\", str(content)).group(1)\n",
    "        lng = re.search(r\".*longitude\\\": *(.*?) *,\\n*\", str(content)).group(1)\n",
    "        \n",
    "        # Add to the lists\n",
    "        lat_list[i] = lat\n",
    "        lng_list[i] = lng\n",
    "               \n",
    "    return lat_list, lng_list\n",
    "#       sys.stdout.write('\\r' + str(lat) +', '+ str(lng))\n",
    "#       time.sleep(0.1)"
   ]
  },
  {
   "cell_type": "code",
   "execution_count": 64,
   "metadata": {},
   "outputs": [],
   "source": [
    "crime = pd.read_csv('./data/Crime_Data.csv')"
   ]
  },
  {
   "cell_type": "code",
   "execution_count": 66,
   "metadata": {},
   "outputs": [
    {
     "data": {
      "text/html": [
       "<div>\n",
       "<style scoped>\n",
       "    .dataframe tbody tr th:only-of-type {\n",
       "        vertical-align: middle;\n",
       "    }\n",
       "\n",
       "    .dataframe tbody tr th {\n",
       "        vertical-align: top;\n",
       "    }\n",
       "\n",
       "    .dataframe thead th {\n",
       "        text-align: right;\n",
       "    }\n",
       "</style>\n",
       "<table border=\"1\" class=\"dataframe\">\n",
       "  <thead>\n",
       "    <tr style=\"text-align: right;\">\n",
       "      <th></th>\n",
       "      <th>RecordID</th>\n",
       "      <th>Offense</th>\n",
       "      <th>IncidentID</th>\n",
       "      <th>BlockNumber</th>\n",
       "      <th>StreetName</th>\n",
       "      <th>Agency</th>\n",
       "      <th>DateReported</th>\n",
       "      <th>HourReported</th>\n",
       "    </tr>\n",
       "  </thead>\n",
       "  <tbody>\n",
       "    <tr>\n",
       "      <th>0</th>\n",
       "      <td>1001</td>\n",
       "      <td>Larceny - All Other</td>\n",
       "      <td>201400000700</td>\n",
       "      <td>600.0</td>\n",
       "      <td>EVERGREEN AVE</td>\n",
       "      <td>CPD</td>\n",
       "      <td>2014-02-07T17:31:00.000Z</td>\n",
       "      <td>1231</td>\n",
       "    </tr>\n",
       "    <tr>\n",
       "      <th>1</th>\n",
       "      <td>1002</td>\n",
       "      <td>Larceny - From Motor Vehicle</td>\n",
       "      <td>201400000701</td>\n",
       "      <td>600.0</td>\n",
       "      <td>9TH ST SW</td>\n",
       "      <td>CPD</td>\n",
       "      <td>2014-02-07T19:01:00.000Z</td>\n",
       "      <td>1401</td>\n",
       "    </tr>\n",
       "    <tr>\n",
       "      <th>2</th>\n",
       "      <td>1003</td>\n",
       "      <td>Larceny - All Other</td>\n",
       "      <td>201400000702</td>\n",
       "      <td>1700.0</td>\n",
       "      <td>CHESAPEAKE ST</td>\n",
       "      <td>CPD</td>\n",
       "      <td>2014-02-07T21:28:00.000Z</td>\n",
       "      <td>1628</td>\n",
       "    </tr>\n",
       "    <tr>\n",
       "      <th>3</th>\n",
       "      <td>1004</td>\n",
       "      <td>Vandalism</td>\n",
       "      <td>201400000703</td>\n",
       "      <td>300.0</td>\n",
       "      <td>E HIGH ST</td>\n",
       "      <td>CPD</td>\n",
       "      <td>2014-02-07T21:48:00.000Z</td>\n",
       "      <td>1648</td>\n",
       "    </tr>\n",
       "    <tr>\n",
       "      <th>4</th>\n",
       "      <td>1005</td>\n",
       "      <td>Lost/FoundProperty</td>\n",
       "      <td>201400000704</td>\n",
       "      <td>1300.0</td>\n",
       "      <td>PRESTON AVE</td>\n",
       "      <td>CPD</td>\n",
       "      <td>2014-02-07T20:05:00.000Z</td>\n",
       "      <td>1505</td>\n",
       "    </tr>\n",
       "  </tbody>\n",
       "</table>\n",
       "</div>"
      ],
      "text/plain": [
       "   RecordID                       Offense    IncidentID  BlockNumber  \\\n",
       "0      1001           Larceny - All Other  201400000700        600.0   \n",
       "1      1002  Larceny - From Motor Vehicle  201400000701        600.0   \n",
       "2      1003           Larceny - All Other  201400000702       1700.0   \n",
       "3      1004                     Vandalism  201400000703        300.0   \n",
       "4      1005            Lost/FoundProperty  201400000704       1300.0   \n",
       "\n",
       "      StreetName Agency              DateReported  HourReported  \n",
       "0  EVERGREEN AVE    CPD  2014-02-07T17:31:00.000Z          1231  \n",
       "1      9TH ST SW    CPD  2014-02-07T19:01:00.000Z          1401  \n",
       "2  CHESAPEAKE ST    CPD  2014-02-07T21:28:00.000Z          1628  \n",
       "3      E HIGH ST    CPD  2014-02-07T21:48:00.000Z          1648  \n",
       "4    PRESTON AVE    CPD  2014-02-07T20:05:00.000Z          1505  "
      ]
     },
     "execution_count": 66,
     "metadata": {},
     "output_type": "execute_result"
    }
   ],
   "source": [
    "crime[:5]"
   ]
  },
  {
   "cell_type": "code",
   "execution_count": 67,
   "metadata": {},
   "outputs": [
    {
     "name": "stderr",
     "output_type": "stream",
     "text": [
      "C:\\ProgramData\\Anaconda3\\lib\\site-packages\\ipykernel_launcher.py:8: DeprecationWarning: FancyURLopener style of invoking requests is deprecated. Use newer urlopen functions/methods\n",
      "  \n"
     ]
    }
   ],
   "source": [
    "crime_lats, crime_lngs = addresstoll(crime[:5])"
   ]
  },
  {
   "cell_type": "code",
   "execution_count": 68,
   "metadata": {},
   "outputs": [
    {
     "data": {
      "text/plain": [
       "0    38.037375\n",
       "1    38.025228\n",
       "2    38.022897\n",
       "3    38.033223\n",
       "4    38.044213\n",
       "dtype: object"
      ]
     },
     "execution_count": 68,
     "metadata": {},
     "output_type": "execute_result"
    }
   ],
   "source": [
    "crime_lats"
   ]
  },
  {
   "cell_type": "code",
   "execution_count": 69,
   "metadata": {},
   "outputs": [
    {
     "data": {
      "text/plain": [
       "0    -78.470562\n",
       "1    -78.495113\n",
       "2    -78.455618\n",
       "3    -78.483328\n",
       "4    -78.492964\n",
       "dtype: object"
      ]
     },
     "execution_count": 69,
     "metadata": {},
     "output_type": "execute_result"
    }
   ],
   "source": [
    "crime_lngs"
   ]
  },
  {
   "cell_type": "code",
   "execution_count": null,
   "metadata": {},
   "outputs": [],
   "source": []
  }
 ],
 "metadata": {
  "kernelspec": {
   "display_name": "Python 3",
   "language": "python",
   "name": "python3"
  },
  "language_info": {
   "codemirror_mode": {
    "name": "ipython",
    "version": 3
   },
   "file_extension": ".py",
   "mimetype": "text/x-python",
   "name": "python",
   "nbconvert_exporter": "python",
   "pygments_lexer": "ipython3",
   "version": "3.6.5"
  }
 },
 "nbformat": 4,
 "nbformat_minor": 2
}
